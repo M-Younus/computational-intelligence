{
 "cells": [
  {
   "cell_type": "code",
   "execution_count": null,
   "metadata": {
    "ExecuteTime": {
     "end_time": "2018-02-17T10:26:43.513124Z",
     "start_time": "2018-02-17T10:26:43.505126Z"
    },
    "collapsed": true
   },
   "outputs": [],
   "source": [
    "import random"
   ]
  },
  {
   "cell_type": "code",
   "execution_count": 32,
   "metadata": {
    "ExecuteTime": {
     "end_time": "2018-02-17T10:26:43.659750Z",
     "start_time": "2018-02-17T10:26:43.513124Z"
    },
    "collapsed": true
   },
   "outputs": [],
   "source": [
    "random.seed(1)"
   ]
  },
  {
   "cell_type": "code",
   "execution_count": 33,
   "metadata": {
    "ExecuteTime": {
     "end_time": "2018-02-17T10:26:44.067465Z",
     "start_time": "2018-02-17T10:26:43.659750Z"
    },
    "collapsed": true
   },
   "outputs": [],
   "source": [
    "G=500;n=25;m=20;mutation_prob=75;"
   ]
  },
  {
   "cell_type": "code",
   "execution_count": 34,
   "metadata": {
    "ExecuteTime": {
     "end_time": "2018-02-17T10:26:44.275743Z",
     "start_time": "2018-02-17T10:26:44.071467Z"
    },
    "code_folding": [],
    "collapsed": true
   },
   "outputs": [],
   "source": [
    "# %debug\n",
    "import ipdb\n",
    "\n",
    "\n",
    "def fit_func(current_set, bd):\n",
    "    current_set['fit_value']=0\n",
    "    #here is the work to calculate fittness by diagonal testing\n",
    "    for row, col in enumerate(current_set['data']):\n",
    "\n",
    "        #t=temp\n",
    "\n",
    "        t1 = row - 1  #i-\n",
    "        t2 = col - 1  #j-\n",
    "        t3 = row + 1  #i+\n",
    "        t4 = col + 1  #j+\n",
    "\n",
    "        check = False\n",
    "        #             ipdb.set_trace()\n",
    "        for i in range(bd - 1):  # -1 because it should not check self record\n",
    "\n",
    "            #we only check one side(diagonal) because there is no repitition of queen in row and column\n",
    "\n",
    "            #for left diagonal\n",
    "\n",
    "            #upper-left\n",
    "            if (t2 >= 0 and t2 <= bd - 1) and (t1 >= 0 and t1 <= bd - 1):\n",
    "                if current_set['data'][t1] != t2:\n",
    "                    check = True\n",
    "                else:\n",
    "                    check = False\n",
    "                    break\n",
    "\n",
    "            #lower-left\n",
    "            if (t2 >= 0 and t2 <= bd - 1) and (t3 >= 0 and t3 <= bd - 1):\n",
    "                if current_set['data'][t3] != t2:\n",
    "                    check = True\n",
    "                else:\n",
    "                    check = False\n",
    "                    break\n",
    "\n",
    "            #for right diagonal columns\n",
    "\n",
    "            #upper-right\n",
    "            if (t4 >= 0 and t4 <= bd - 1) and (t1 >= 0 and t1 <= bd - 1):\n",
    "                if current_set['data'][t1] != t4:\n",
    "                    check = True\n",
    "                else:\n",
    "                    check = False\n",
    "                    break\n",
    "\n",
    "            #lower-right\n",
    "            if (t4 >= 0 and t4 <= bd - 1) and (t3 >= 0 and t3 <= bd - 1):\n",
    "                if current_set['data'][t3] != t4:\n",
    "                    check = True\n",
    "                else:\n",
    "                    check = False\n",
    "                    break\n",
    "\n",
    "            t1 -= 1\n",
    "            t2 -= 1\n",
    "            t3 += 1\n",
    "            t4 += 1\n",
    "\n",
    "        if check:\n",
    "            #             print(row)\n",
    "            current_set['fit_value'] += 1"
   ]
  },
  {
   "cell_type": "code",
   "execution_count": 35,
   "metadata": {
    "ExecuteTime": {
     "start_time": "2018-02-17T10:26:43.520Z"
    }
   },
   "outputs": [
    {
     "data": {
      "text/plain": [
       "{'data': [2, 4, 1, 7, 0, 6, 3, 5], 'fit_value': 8}"
      ]
     },
     "execution_count": 35,
     "metadata": {},
     "output_type": "execute_result"
    }
   ],
   "source": [
    "helll={'data': [2, 4, 1, 7, 0, 6, 3, 5],'fit_value':0}\n",
    "fit_func(helll,8)\n",
    "helll"
   ]
  },
  {
   "cell_type": "code",
   "execution_count": 44,
   "metadata": {
    "ExecuteTime": {
     "start_time": "2018-02-17T10:26:43.524Z"
    },
    "code_folding": []
   },
   "outputs": [
    {
     "name": "stdout",
     "output_type": "stream",
     "text": [
      "Enter dimension of chess board=5\n",
      ",answer={'data': [2, 4, 1, 3, 0], 'fit_value': 5},gen=0\n"
     ]
    }
   ],
   "source": [
    "#init population\n",
    "board_dim = int(input(\"Enter dimension of chess board=\"))\n",
    "nList = []\n",
    "\n",
    "for i in range(n):\n",
    "    x = []\n",
    "    for i in range(board_dim):\n",
    "        x=random.sample(range(board_dim),board_dim)\n",
    "\n",
    "    nList.append({'data': x, 'fit_value': 0})\n",
    "\n",
    "    \n",
    "# %debug\n",
    "# import ipdb\n",
    "\n",
    "gen=0\n",
    "while 1:\n",
    "    \n",
    "    ok=False\n",
    "    \n",
    "    for cs in nList:\n",
    "        fit_func(cs,board_dim)\n",
    "#         print(cs)\n",
    "        if cs['fit_value']==board_dim:\n",
    "            print(\",answer={},gen={}\".format(cs,gen))\n",
    "            ok=True\n",
    "            break\n",
    "    \n",
    "    #found best break\n",
    "    if ok:\n",
    "        break\n",
    "        \n",
    "    #if answer not found get top 25 from previous generation    \n",
    "    nList=sorted(nList,key=lambda item:item['fit_value'],reverse=True)[:25]\n",
    "    \n",
    "    gen+=1\n",
    "    mList = []\n",
    "    for j in range(int(m / 2)):\n",
    "        #randomly parent selection(not same)\n",
    " \n",
    "        t=random.sample(range(n),2)\n",
    "        \n",
    "        p1 = nList[t[0]]['data']\n",
    "        p2 = nList[t[1]]['data']\n",
    "\n",
    "        #crossover\n",
    "        ch1 = p1[:int((board_dim / 2)) - 1] + p2[int((board_dim / 2)) - 1:]\n",
    "        ch2 = p2[:int((board_dim / 2)) - 1] + p1[int((board_dim / 2)) - 1:]\n",
    "\n",
    "        #remove duplicated but order remain same ;)\n",
    "        ch1 = sorted(set(ch1), key=ch1.index)\n",
    "        ch2 = sorted(set(ch2), key=ch2.index)\n",
    "\n",
    "        #get which are not in ch1 but for completeness we get from respective parent\n",
    "        #R=remaining\n",
    "        ch1R = [el for el in p2 if el not in ch1]\n",
    "        ch2R = [el for el in p1 if el not in ch2]\n",
    "\n",
    "        #filling remaining getting by traversing\n",
    "        ch1 += ch1R\n",
    "        ch2 += ch2R\n",
    "\n",
    "        #mutation work\n",
    "        for k in [ch1, ch2]:\n",
    "            if random.randint(0, 100) <= mutation_prob:\n",
    "                \n",
    "                r_ind=random.sample(range(board_dim),2)\n",
    "\n",
    "                #swaping\n",
    "                \n",
    "                k[r_ind[0]], k[r_ind[1]] = k[r_ind[1]], k[r_ind[0]]\n",
    "\n",
    "        mList.append({'data': ch1, 'fit_value': 0})\n",
    "        mList.append({'data': ch2, 'fit_value': 0})\n",
    "\n",
    "    #combine both mList and nList\n",
    "\n",
    "    nList += mList\n",
    "    \n",
    "    "
   ]
  },
  {
   "cell_type": "code",
   "execution_count": 37,
   "metadata": {
    "ExecuteTime": {
     "start_time": "2018-02-17T10:26:43.527Z"
    },
    "collapsed": true
   },
   "outputs": [],
   "source": [
    "# haris=[27, 39, 26, 32, 44, 1, 49, 11, 16, 40, 3, 28, 48, 23, 30, 5, 37, 17, 13, 47, 38, 0, 29, 34, 6, 31, 12, 46, 9, 18, 45, 2, 20, 10, 8, 15, 33, 22, 25, 41, 24, 4, 36, 42, 35, 43, 21, 7, 14, 19]"
   ]
  },
  {
   "cell_type": "code",
   "execution_count": 46,
   "metadata": {
    "ExecuteTime": {
     "start_time": "2018-02-17T10:26:43.529Z"
    }
   },
   "outputs": [
    {
     "data": {
      "image/png": "[encoded data removed]",
      "text/plain": [
       "<matplotlib.figure.Figure at 0x1b19bff0438>"
      ]
     },
     "metadata": {},
     "output_type": "display_data"
    }
   ],
   "source": [
    "#chessboard graph\n",
    "import matplotlib.pyplot as plt\n",
    "import numpy as np\n",
    "\n",
    "def plot_func(dim):\n",
    "    temp=np.zeros((dim,dim))\n",
    "    \n",
    "    c=0\n",
    "    for i in range(dim):\n",
    "        for j in range(dim):\n",
    "            if c%2==0:\n",
    "                temp[i,j]=1\n",
    "                c+=1\n",
    "            else:\n",
    "                temp[i,j]=2\n",
    "                c+=1\n",
    "                \n",
    "        if dim%2==0:\n",
    "            c+=1\n",
    "\n",
    "    for t in cs['data']:\n",
    "        temp[t,cs['data'][t]]=3\n",
    "    \n",
    "    return temp\n",
    "\n",
    "plt.matshow(plot_func(board_dim))\n",
    "plt.show()"
   ]
  },
  {
   "cell_type": "code",
   "execution_count": null,
   "metadata": {
    "collapsed": true
   },
   "outputs": [],
   "source": []
  }
 ],
 "metadata": {
  "celltoolbar": "Initialization Cell",
  "kernelspec": {
   "display_name": "Python 3",
   "language": "python",
   "name": "python3"
  },
  "language_info": {
   "codemirror_mode": {
    "name": "ipython",
    "version": 3
   },
   "file_extension": ".py",
   "mimetype": "text/x-python",
   "name": "python",
   "nbconvert_exporter": "python",
   "pygments_lexer": "ipython3",
   "version": "3.6.2"
  },
  "varInspector": {
   "cols": {
    "lenName": 16.0,
    "lenType": 16.0,
    "lenVar": 40.0
   },
   "kernels_config": {
    "python": {
     "delete_cmd_postfix": "",
     "delete_cmd_prefix": "del ",
     "library": "var_list.py",
     "varRefreshCmd": "print(var_dic_list())"
    },
    "r": {
     "delete_cmd_postfix": ") ",
     "delete_cmd_prefix": "rm(",
     "library": "var_list.r",
     "varRefreshCmd": "cat(var_dic_list()) "
    }
   },
   "position": {
    "height": "348px",
    "left": "816px",
    "right": "20px",
    "top": "114px",
    "width": "518px"
   },
   "types_to_exclude": [
    "module",
    "function",
    "builtin_function_or_method",
    "instance",
    "_Feature"
   ],
   "window_display": false
  }
 },
 "nbformat": 4,
 "nbformat_minor": 2
}
