{
 "cells": [
  {
   "cell_type": "code",
   "execution_count": 1,
   "metadata": {
    "ExecuteTime": {
     "end_time": "2018-02-14T08:38:19.768793Z",
     "start_time": "2018-02-14T08:38:19.760791Z"
    },
    "collapsed": true
   },
   "outputs": [],
   "source": [
    "import random,numpy as np\n",
    "from functools import reduce"
   ]
  },
  {
   "cell_type": "code",
   "execution_count": 70,
   "metadata": {
    "collapsed": true
   },
   "outputs": [],
   "source": [
    "random.seed(7086)"
   ]
  },
  {
   "cell_type": "code",
   "execution_count": 71,
   "metadata": {
    "ExecuteTime": {
     "end_time": "2018-02-14T08:38:22.396149Z",
     "start_time": "2018-02-14T08:38:22.389144Z"
    },
    "collapsed": true
   },
   "outputs": [],
   "source": [
    "fit_func=lambda x,y:100*(x**2-y)**2+(1-x)**2"
   ]
  },
  {
   "cell_type": "code",
   "execution_count": 72,
   "metadata": {
    "collapsed": true
   },
   "outputs": [],
   "source": [
    "def FP(population, ret):\n",
    "    total = sum([t[2] for t in population])\n",
    "    proportion = list(map(lambda t: t[2] / total , population))\n",
    "    cumsum_list = np.cumsum(proportion)\n",
    "    cumsum_dict = {i: e for i, e in enumerate(cumsum_list)}\n",
    "    retList = []\n",
    "    while ret > 0:\n",
    "        m = random.uniform(0, 1)\n",
    "        n = list(filter(lambda t: t[1] >= m, cumsum_dict.items()))\n",
    "        n = n[0]\n",
    "        #get element by processed index and saved it in final to be return list\n",
    "        retList.append(population[n[0]])  \n",
    "        ret -= 1\n",
    "\n",
    "    return retList"
   ]
  },
  {
   "cell_type": "code",
   "execution_count": 76,
   "metadata": {
    "collapsed": true
   },
   "outputs": [],
   "source": [
    "def RB(population, ret):\n",
    "    population = sorted(population, key=lambda t: t[2])\n",
    "    total = sum(range(len(population))) + len(population)\n",
    "    #for ranking,divided it by its index\n",
    "    rank_proportion = [(i + 1) / total for i, e in enumerate(population)]\n",
    "    cumsum_list = np.cumsum(rank_proportion)\n",
    "    cumsum_dict = {i: e for i, e in enumerate(cumsum_list)}\n",
    "    retList = []\n",
    "    while ret > 0:\n",
    "        m = random.uniform(0, 1)\n",
    "        n = list(filter(lambda t: t[1] >= m, cumsum_dict.items()))\n",
    "        #get element by processed index and saved it in final to be return list\n",
    "        #n[0] only get first because we must get many validated for range\n",
    "        n=n[0]\n",
    "        retList.append(population[n[0]]) #pass first index means index value from tuple\n",
    "        ret -= 1\n",
    "\n",
    "    return retList"
   ]
  },
  {
   "cell_type": "code",
   "execution_count": 101,
   "metadata": {
    "collapsed": true
   },
   "outputs": [],
   "source": [
    "def BT(population, ret):\n",
    "    random_list = []\n",
    "    retList = []\n",
    "    #     r = random.randint(0, len(population))\n",
    "    #     random_list.append(r)\n",
    "    while ret > 0:\n",
    "        r=0\n",
    "        while 1:\n",
    "            r = random.sample(range(len(population)), 2)\n",
    "            if r[0] and r[1] not in random_list:\n",
    "                r = r[0] if population[r[0]][2] > population[r[1]][2] else r[1]\n",
    "                break\n",
    "                \n",
    "        random_list.append(r)\n",
    "        retList.append(population[r])\n",
    "        ret -= 1\n",
    "\n",
    "    return retList"
   ]
  },
  {
   "cell_type": "code",
   "execution_count": 74,
   "metadata": {
    "ExecuteTime": {
     "end_time": "2018-02-14T08:38:25.415595Z",
     "start_time": "2018-02-14T08:38:25.407595Z"
    },
    "collapsed": true
   },
   "outputs": [],
   "source": [
    "G=50;n=25;m=20;mutation=0.25;mutation_prob=75"
   ]
  },
  {
   "cell_type": "code",
   "execution_count": null,
   "metadata": {
    "ExecuteTime": {
     "end_time": "2018-02-14T08:38:29.306855Z",
     "start_time": "2018-02-14T08:38:29.028911Z"
    }
   },
   "outputs": [],
   "source": [
    "#init population\n",
    "nList=[];GList=[];data=[]\n",
    "for i in range(n):\n",
    "    x=round(random.uniform(-2,2),2)\n",
    "    y=round(random.uniform(-1,3),2)\n",
    "    fit_val=round(fit_func(x,y),2)\n",
    "    nList.append([x,y,fit_val])\n",
    "    \n",
    "# %debug\n",
    "# import ipdb\n",
    "for i in range(G):\n",
    "    mList=[]\n",
    "    \n",
    "    for j in range(int(m/2)):\n",
    "        #randomly parent selection(not same)\n",
    "        #t=temp\n",
    "        \n",
    "        #random\n",
    "#         t=random.sample(range(n),2)\n",
    "        \n",
    "#         p1=nList[t[0]]\n",
    "#         p2=nList[t[1]]\n",
    "        \n",
    "        #fittness proportion\n",
    "        \n",
    "#         t=FP(nList,2)\n",
    "#         p1=t[0]\n",
    "#         p2=t[1]\n",
    "\n",
    "        #RB\n",
    "#         t=RB(nList,2)\n",
    "#         p1=t[0]\n",
    "#         p2=t[1]\n",
    "\n",
    "        #BT\n",
    "        t=BT(nList,2)\n",
    "        p1=t[0]\n",
    "        p2=t[1]\n",
    "        \n",
    "        #crossover\n",
    "        ch1=[p1[0],p2[1]]\n",
    "        ch2=[p2[0],p1[1]]\n",
    "        tempChs=[ch1,ch2]\n",
    "        \n",
    "        #mutation work\n",
    "        for k in tempChs:\n",
    "            if random.randint(0,100)<=mutation_prob:\n",
    "                #mutate in x\n",
    "#                 ipdb.set_trace()\n",
    "                if random.randint(1,2)%2==0:\n",
    "                    if random.randint(1,2)%2==0:\n",
    "                        k[0]+=mutation\n",
    "                        k[0] = 2 if k[0] > 2 else k[0]\n",
    "                    else:\n",
    "                        k[0]-=mutation\n",
    "                        k[0] = -2 if k[0] < -2 else k[0]\n",
    "                        \n",
    "                    k[0]=round(k[0],2)\n",
    "                    \n",
    "                #mutate in y\n",
    "                else:\n",
    "                    if random.randint(1,2)%2==0:\n",
    "                        k[1]+=mutation\n",
    "                        k[1] = 3 if k[1] > 3 else k[1]\n",
    "                    else:\n",
    "                        k[1]-=mutation\n",
    "                        k[1] = -1 if k[1] < -1 else k[1]\n",
    "                        \n",
    "                    k[1]=round(k[1],2)\n",
    "        \n",
    "        ch1+= [ round( fit_func( ch1[0] , ch1[1] ) ,2 ) ]\n",
    "        ch2+= [ round( fit_func( ch2[0] , ch2[1] ) ,2 ) ]\n",
    "        mList.append(ch1)\n",
    "        mList.append(ch2)\n",
    "    \n",
    "    \n",
    "    #combine both mList and nList and sort it with respect fit func value,also ovverides the nList,so we used in next iteration\n",
    "    \n",
    "    #truncation method\n",
    "#     nList=sorted(nList+mList,key=lambda item:item[2],reverse=True)[:25]\n",
    "    \n",
    "    #FP method\n",
    "#     nList=FP(nList+mList,25)\n",
    "\n",
    "    #RB method\n",
    "    nList=RB(nList+mList,25)\n",
    "\n",
    "    #BT method\n",
    "#     nList=BT(nList+mList,25)\n",
    "    \n",
    "    data.append(nList)\n",
    "    #ok now write it to text file...\n",
    "#     print(\"Generation {}#:{}\".format(i,nList))\n",
    "    GList.append(nList[0][2])\n",
    "        \n",
    "        "
   ]
  },
  {
   "cell_type": "code",
   "execution_count": 2,
   "metadata": {},
   "outputs": [
    {
     "data": {
      "text/plain": [
       "2"
      ]
     },
     "execution_count": 2,
     "metadata": {},
     "output_type": "execute_result"
    }
   ],
   "source": [
    "2"
   ]
  },
  {
   "cell_type": "code",
   "execution_count": null,
   "metadata": {},
   "outputs": [],
   "source": []
  },
  {
   "cell_type": "code",
   "execution_count": 121,
   "metadata": {
    "ExecuteTime": {
     "end_time": "2018-02-14T08:38:43.675811Z",
     "start_time": "2018-02-14T08:38:37.056859Z"
    }
   },
   "outputs": [
    {
     "data": {
      "image/png": "[encoded data removed]",
      "text/plain": [
       "<matplotlib.figure.Figure at 0x24406132518>"
      ]
     },
     "metadata": {},
     "output_type": "display_data"
    }
   ],
   "source": [
    "import matplotlib.pyplot as plt\n",
    "plt.scatter(list(range(len(GList))),GList)\n",
    "plt.xlabel(\"Generations #\")\n",
    "plt.ylabel(\"Fit Function Value \")\n",
    "plt.show()"
   ]
  },
  {
   "cell_type": "code",
   "execution_count": 122,
   "metadata": {
    "collapsed": true
   },
   "outputs": [],
   "source": [
    "with open('bt_rb_data.txt','w') as f:\n",
    "    i=0\n",
    "    for j in GList:\n",
    "        f.write(\"Generation {}#:{}\\n\".format(i,str(j)))\n",
    "        i+=1"
   ]
  }
 ],
 "metadata": {
  "kernelspec": {
   "display_name": "Python 3",
   "language": "python",
   "name": "python3"
  },
  "language_info": {
   "codemirror_mode": {
    "name": "ipython",
    "version": 3
   },
   "file_extension": ".py",
   "mimetype": "text/x-python",
   "name": "python",
   "nbconvert_exporter": "python",
   "pygments_lexer": "ipython3",
   "version": "3.6.2"
  },
  "varInspector": {
   "cols": {
    "lenName": 16.0,
    "lenType": 16.0,
    "lenVar": 40.0
   },
   "kernels_config": {
    "python": {
     "delete_cmd_postfix": "",
     "delete_cmd_prefix": "del ",
     "library": "var_list.py",
     "varRefreshCmd": "print(var_dic_list())"
    },
    "r": {
     "delete_cmd_postfix": ") ",
     "delete_cmd_prefix": "rm(",
     "library": "var_list.r",
     "varRefreshCmd": "cat(var_dic_list()) "
    }
   },
   "types_to_exclude": [
    "module",
    "function",
    "builtin_function_or_method",
    "instance",
    "_Feature"
   ],
   "window_display": false
  }
 },
 "nbformat": 4,
 "nbformat_minor": 2
}
