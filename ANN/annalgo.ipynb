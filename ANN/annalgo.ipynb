{
 "cells": [
  {
   "cell_type": "code",
   "execution_count": 36,
   "metadata": {
    "collapsed": true
   },
   "outputs": [],
   "source": [
    "import pandas as pd\n",
    "import numpy as np\n",
    "import random, math"
   ]
  },
  {
   "cell_type": "code",
   "execution_count": 24,
   "metadata": {
    "collapsed": true
   },
   "outputs": [],
   "source": [
    "df=pd.read_csv('NN-DATA.csv')"
   ]
  },
  {
   "cell_type": "code",
   "execution_count": 26,
   "metadata": {
    "collapsed": true
   },
   "outputs": [],
   "source": [
    "data=df.values.tolist()"
   ]
  },
  {
   "cell_type": "code",
   "execution_count": 41,
   "metadata": {
    "collapsed": true
   },
   "outputs": [],
   "source": [
    "outer_threshold=0.001;inner_threshold=0.005;rate_var=0;falto=0;"
   ]
  },
  {
   "cell_type": "code",
   "execution_count": null,
   "metadata": {},
   "outputs": [],
   "source": [
    "while (1):\n",
    "    avg_total = []\n",
    "\n",
    "    #learning rate\n",
    "    rate_var += 1\n",
    "    n = 1 / (len(data) + rate_var)\n",
    "    print(rate_var)\n",
    "    for i in data:\n",
    "        falto += 1\n",
    "        print(i)\n",
    "        x1, x2, x3, y = i[0], i[1], i[2], i[3]\n",
    "        #weights\n",
    "        w14, w15, w24, w25, w34, w35, w46, w56 = np.random.uniform(-1, 1, 8)\n",
    "        #biases\n",
    "        o4, o5, o6 = np.random.uniform(0, 1, 3)\n",
    "        while (1):\n",
    "            print(falto)\n",
    "            out4 = (x1 * w14) + (x2 * w24) + (x3 * w34) + o4\n",
    "            out4 = 1 / (1 + math.e**(-out4))\n",
    "            out5 = (x1 * w15) + (x2 * w25) + (x3 * w35) + o5\n",
    "            out5 = 1 / (1 + math.e**(-out5))\n",
    "            out6 = (out4 * w46) + (out5 * w56) + o6\n",
    "            out6 = 1 / (1 + math.e**(-out6))\n",
    "\n",
    "            err6 = out6 * (1 - out6) * (y - out6)\n",
    "\n",
    "            if err6 <= 0.005:\n",
    "                avg_total.append(out6)\n",
    "                break\n",
    "\n",
    "            #weight & bias updation/back propagation....d means delta\n",
    "            d_w46 = n * err6 * out4\n",
    "            w46 += d_w46\n",
    "\n",
    "            d_w56 = n * err6 * out5\n",
    "            w56 += d_w56\n",
    "\n",
    "            o6 += err6 * n\n",
    "\n",
    "            err4 = out4 * (1 - out4) * (err6) * (w46)\n",
    "            err5 = out5 * (1 - out5) * (err6) * (w56)\n",
    "\n",
    "            d_w14 = n * err4 * x1\n",
    "            w14 += d_w14\n",
    "\n",
    "            d_w15 = n * err5 * x1\n",
    "            w15 += d_w15\n",
    "\n",
    "            d_w24 = n * err4 * x2\n",
    "            w24 += d_w24\n",
    "\n",
    "            d_w25 = n * err5 * x2\n",
    "            w25 += d_w25\n",
    "\n",
    "            d_w34 = n * err4 * x3\n",
    "            w34 += d_w34\n",
    "\n",
    "            d_w35 = n * err5 * x3\n",
    "            w35 += d_w35\n",
    "\n",
    "            o4 += n * err4\n",
    "            o5 += n * err5\n",
    "\n",
    "    #in this list \"calculated output\" of each record should be appended\n",
    "    if (sum(avg_total) / len(data)) <= 0.001:\n",
    "        break"
   ]
  }
 ],
 "metadata": {
  "kernelspec": {
   "display_name": "Python 3",
   "language": "python",
   "name": "python3"
  },
  "language_info": {
   "codemirror_mode": {
    "name": "ipython",
    "version": 3
   },
   "file_extension": ".py",
   "mimetype": "text/x-python",
   "name": "python",
   "nbconvert_exporter": "python",
   "pygments_lexer": "ipython3",
   "version": "3.6.2"
  },
  "varInspector": {
   "cols": {
    "lenName": 16.0,
    "lenType": 16.0,
    "lenVar": 40.0
   },
   "kernels_config": {
    "python": {
     "delete_cmd_postfix": "",
     "delete_cmd_prefix": "del ",
     "library": "var_list.py",
     "varRefreshCmd": "print(var_dic_list())"
    },
    "r": {
     "delete_cmd_postfix": ") ",
     "delete_cmd_prefix": "rm(",
     "library": "var_list.r",
     "varRefreshCmd": "cat(var_dic_list()) "
    }
   },
   "position": {
    "height": "175px",
    "left": "996px",
    "right": "20px",
    "top": "120px",
    "width": "312px"
   },
   "types_to_exclude": [
    "module",
    "function",
    "builtin_function_or_method",
    "instance",
    "_Feature"
   ],
   "window_display": false
  }
 },
 "nbformat": 4,
 "nbformat_minor": 2
}
